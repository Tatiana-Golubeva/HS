{
 "cells": [
  {
   "cell_type": "code",
   "execution_count": 398,
   "metadata": {},
   "outputs": [],
   "source": [
    "import os\n",
    "from tqdm.notebook import tqdm\n",
    "from PIL import Image, ImageDraw\n",
    "import numpy as np\n",
    "import matplotlib.pyplot as plt\n",
    "import math\n",
    "from collections import namedtuple\n",
    "import heapq\n",
    "%matplotlib inline\n",
    "np.random.seed(17)"
   ]
  },
  {
   "cell_type": "code",
   "execution_count": 2,
   "metadata": {},
   "outputs": [],
   "source": [
    "def diagonal_distance(x1, y1, x2, y2):\n",
    "    dx = abs(x2 - x1)\n",
    "    dy = abs(y2 - y1)\n",
    "    \n",
    "    min_d = min(dx, dy)\n",
    "    max_d = max(dx, dy)\n",
    "    \n",
    "    return math.sqrt(2) * min_d + (max_d - min_d)"
   ]
  },
  {
   "cell_type": "code",
   "execution_count": 243,
   "metadata": {},
   "outputs": [],
   "source": [
    "class Node:\n",
    "    def __init__(self, x=-1, y=-1, g=math.inf, h=math.inf, f=None, parent=None, last_num=0, lb=-math.inf, ub=math.inf):\n",
    "        self.x = x\n",
    "        self.y = y\n",
    "        self.g = g\n",
    "        self.lb = lb\n",
    "        self.ub = ub\n",
    "        if f is None:\n",
    "            self.f = self.g + h\n",
    "        else:\n",
    "            self.f = f \n",
    "        self.parent = parent\n",
    "        self.last_num = last_num\n",
    "    \n",
    "    def __eq__(self, other):\n",
    "        return self.x == other.x and self.y == other.y\n",
    "    \n",
    "    def __lt__(self, other):\n",
    "        return self.f < other.f and (self.f == other.f and self.last_num > other.last_num)\n",
    "    \n",
    "    def calculate_distance(self, other):\n",
    "        return math.sqrt((self.x - other.x) ** 2 + (self.y - other.y) ** 2)\n"
   ]
  },
  {
   "cell_type": "code",
   "execution_count": 312,
   "metadata": {},
   "outputs": [],
   "source": [
    "class Map:\n",
    "    def __init_(self):\n",
    "        self.width = 0\n",
    "        self.height = 0\n",
    "        self.cells = []\n",
    "#         self.grid_corners = []\n",
    "    \n",
    "    def read_from_string(self, cell_str, width, height):\n",
    "        self.width = width\n",
    "        self.height = height\n",
    "        \n",
    "        self.cells = [[0 for _ in range(self.width + 1)] for _ in range(self.height + 1)]\n",
    "        cell_lines = cell_str.split(\"\\n\")\n",
    "        i = 0\n",
    "        j = 0\n",
    "        for l in cell_lines:\n",
    "            if len(l) != 0:\n",
    "                j = 0\n",
    "                for c in l:\n",
    "                    if c == '.':\n",
    "                        self.cells[i][j] = 0\n",
    "                    elif c == '#':\n",
    "                        self.cells[i][j] = 1\n",
    "                        self.cells[i + 1][j] = 1\n",
    "                        self.cells[i][j + 1] = 1\n",
    "                        self.cells[i + 1][j + 1] = 1\n",
    "                    else:\n",
    "                        continue\n",
    "                    j += 1\n",
    "                    \n",
    "                if j != width:\n",
    "                    raise Exception(\"Size Error. Map width = \", j, \", but must be\", width )\n",
    "                \n",
    "                i += 1\n",
    "\n",
    "        if i != height:\n",
    "            raise Exception(\"Size Error. Map height = \", i, \", but must be\", height )\n",
    "            \n",
    "    def get_cells(self):\n",
    "        return self.cells\n",
    "    \n",
    "    def set_grid_cells(self, width, height, grid_cells):\n",
    "        self.width = width\n",
    "        self.height = height\n",
    "        self.cells = grid_cells\n",
    "    \n",
    "        \n",
    "    def traversable(self, i, j):\n",
    "        \n",
    "        if self.cells[i][j] == 1 and self.cells[i + 1][j] == 1 and self.cells[i][j + 1] == 1 and self.cells[i + 1][j + 1] == 1:\n",
    "            return False\n",
    "        return True\n",
    "\n",
    "    \n",
    "    def in_bounds(self, i, j):\n",
    "        return (0 <= j < self.width + 1) and (0 <= i < self.height + 1)\n",
    "    \n",
    "\n",
    "    def get_neighbors(self, i, j):\n",
    "        corners = [[-1, 1], [1, 1], [-1, -1], [1, -1]]\n",
    "        delta = [[0, 1], [1, 0], [0, -1], [-1, 0]]\n",
    "        neighbors = []\n",
    "        \n",
    "        for c in corners:\n",
    "            if self.in_bounds(i + c[0], j + c[1]) and (self.cells[i][j] != 1 or self.cells[i + c[0]][j + c[1]] != 1):\n",
    "                neighbors.append(Node(i + c[0], j + c[1]))\n",
    "        for d in delta:\n",
    "            if self.in_bounds(i + d[0], j + d[1]) and (self.cells[i][j] != 1 or self.cells[i + d[0]][j + d[1]] != 1):\n",
    "                neighbors.append(Node(i + d[0], j + d[1]))\n",
    "            else:\n",
    "                if self.in_bounds(i + d[0], j + d[1]):\n",
    "                    if d[0] == 1 and j != 0 and i != self.height and j != self.width and (self.traversable(i, j) or self.traversable(i, j - 1)):\n",
    "                        neighbors.append(Node(i + d[0], j + d[1]))\n",
    "                    elif d[0] == -1 and i != 0 and j != 0 and j != self.width and (self.traversable(i - 1, j) or self.traversable(i - 1, j - 1)):\n",
    "                        neighbors.append(Node(i + d[0], j + d[1]))\n",
    "                    elif d[1] == 1 and i != 0 and i != self.height and (self.traversable(i, j) or self.traversable(i - 1, j)):\n",
    "                        neighbors.append(Node(i + d[0], j + d[1]))\n",
    "                    elif d[1] == -1 and i != 0 and i != self.height and j != 0 and (self.traversable(i, j - 1) or self.traversable(i - 1, j - 1)):\n",
    "                        neighbors.append(Node(i + d[0], j + d[1]))\n",
    "                    \n",
    "\n",
    "        return neighbors\n",
    "    \n",
    "    def line_of_sight(self, x0, y0, x1, y1):\n",
    "        dy = y1 - y0\n",
    "        dx = x1 - x0\n",
    "        f = 0\n",
    "        if dy < 0:\n",
    "            dy = -dy\n",
    "            sy = -1\n",
    "        else:\n",
    "            sy = 1\n",
    "\n",
    "        if dx < 0:\n",
    "            dx = -dx\n",
    "            sx = -1\n",
    "        else:\n",
    "            sx = 1\n",
    "\n",
    "        if dx >= dy:\n",
    "            while x0 != x1:\n",
    "                f = f + dy\n",
    "                if f >= dx:\n",
    "                    if not self.traversable(x0 + (sx - 1) // 2, y0 + (sy - 1) // 2):\n",
    "                        return False\n",
    "                    y0 = y0 + sy\n",
    "                    f = f - dx\n",
    "                if f != 0 and not self.traversable(x0 + (sx - 1) // 2, y0 + (sy - 1) // 2):\n",
    "                    return False\n",
    "                if dy == 0 and not self.traversable(x0 + (sx - 1) // 2, y0) and not self.traversable(x0 + (sx - 1) // 2, y0 - 1):\n",
    "                    return False\n",
    "                x0 = x0 + sx\n",
    "        else:\n",
    "            while y0 != y1:\n",
    "                f = f + dx\n",
    "                if f >= dy:\n",
    "                    if not self.traversable(x0 + (sx - 1) // 2, y0 + (sy - 1) // 2):\n",
    "                        return False\n",
    "                    x0 = x0 + sx\n",
    "                    f = f - dy\n",
    "                if f != 0 and not self.traversable(x0 + (sx - 1) // 2, y0 + (sy - 1) // 2):\n",
    "                    return False\n",
    "                if dx == 0 and not self.traversable(x0, y0 + (sy - 1) // 2) and not self.traversable(x0 - 1, y0 + (sy - 1) // 2):\n",
    "                    return False\n",
    "                y0 = y0 + sy\n",
    "\n",
    "        return True"
   ]
  },
  {
   "cell_type": "code",
   "execution_count": 99,
   "metadata": {},
   "outputs": [],
   "source": [
    "class Open:\n",
    "    def __init__(self):\n",
    "        self.elements = []\n",
    "        self.coords_dict = {}\n",
    "    \n",
    "    def __iter__(self):\n",
    "        return iter(self.coords_dict.values())\n",
    "\n",
    "    def __len__(self):\n",
    "        return len(self.coords_dict)\n",
    "\n",
    "    def is_empty(self):\n",
    "        if len(self.coords_dict) != 0:\n",
    "            return False\n",
    "        return True \n",
    "\n",
    "    def get_best_node(self):\n",
    "        best = heapq.heappop(self.elements)\n",
    "        coords = (best.x, best.y)\n",
    "        while self.coords_dict.pop(coords, None) is None:\n",
    "            best = heapq.heappop(self.elements)\n",
    "            coords = (best.x, best.y)\n",
    "        return best\n",
    "      \n",
    "    def add_node(self, item : Node):\n",
    "        coords = (item.x, item.y)\n",
    "        current_item = self.coords_dict.get(coords)\n",
    "        if current_item is None or item.g < current_item.g or abs(item.g - current_item.g) < EPS:\n",
    "            self.coords_dict[coords] = item\n",
    "            heapq.heappush(self.elements, item)"
   ]
  },
  {
   "cell_type": "code",
   "execution_count": 100,
   "metadata": {},
   "outputs": [],
   "source": [
    "class Close:\n",
    "    def __init__(self):\n",
    "        self.elements = {}\n",
    "\n",
    "    def __iter__(self):\n",
    "        return iter(self.elements.values())\n",
    "\n",
    "    def __len__(self):\n",
    "        return len(self.elements)\n",
    "\n",
    "    def add_node(self, item : Node, *args):\n",
    "        coords = (item.x, item.y)\n",
    "        self.elements[coords] = item\n",
    "\n",
    "    def was_expanded(self, item : Node, *args):\n",
    "        return (item.x, item.y) in self.elements"
   ]
  },
  {
   "cell_type": "code",
   "execution_count": 176,
   "metadata": {},
   "outputs": [],
   "source": [
    "def calculate_cost(grid_map, s, n):\n",
    "    \n",
    "    if s.parent is not None and grid_map.line_of_sight(s.parent.x, s.parent.y, n.x, n.y):\n",
    "        cost = s.parent.g + s.parent.calculate_distance(n)\n",
    "        if n.g == math.inf or cost < n.g:\n",
    "            n.parent = s.parent\n",
    "            n.g = cost\n",
    "    else:\n",
    "        cost = s.g + s.calculate_distance(n)\n",
    "        if n.g == math.inf or cost < n.g:\n",
    "            n.parent = s\n",
    "            n.g = cost\n",
    "\n",
    "def calculate_cost_astar(grid_map, s, n):\n",
    "    cost = s.g + s.calculate_distance(n)\n",
    "    if n.g == math.inf or cost < n.g:\n",
    "        n.parent = s\n",
    "        n.g = cost\n",
    "        "
   ]
  },
  {
   "cell_type": "code",
   "execution_count": 177,
   "metadata": {},
   "outputs": [],
   "source": [
    "def a_star(grid_map, x_start, y_start, x_goal, y_goal, heuristic_func=diagonal_distance):\n",
    "    opened = Open()\n",
    "    closed = Close()\n",
    "    start_node = Node(x_start, y_start, g=0, h=heuristic_func(x_start, y_start, x_goal, y_goal))\n",
    "    opened.add_node(start_node)\n",
    "    last_num = 1\n",
    "    while not opened.is_empty():\n",
    "        current_node = opened.get_best_node()\n",
    "        closed.add_node(current_node)\n",
    "        if current_node.x == x_goal and current_node.y == y_goal:\n",
    "            return (True, current_node, closed, opened)\n",
    "        neighbors = grid_map.get_neighbors(current_node.x, current_node.y)\n",
    "        for n in neighbors:\n",
    "            calculate_cost_astar(grid_map, current_node, n)\n",
    "            n.h = heuristic_func(n.x, n.y, x_goal, y_goal)\n",
    "            n.f = n.g + n.h\n",
    "            last_num += 1\n",
    "            if not closed.was_expanded(n):\n",
    "                opened.add_node(n)\n",
    "    return False, None, closed, opened"
   ]
  },
  {
   "cell_type": "code",
   "execution_count": 219,
   "metadata": {},
   "outputs": [],
   "source": [
    "def post_smooth_path(grid_map, path):\n",
    "    k = 0\n",
    "    t_k = path[0]\n",
    "    new_path = [t_k]\n",
    "    for i in range(1, len(path) - 1):\n",
    "        if not grid_map.line_of_sight(t_k.x, t_k.y, path[i].x, path[i].y):\n",
    "            k = k + 1\n",
    "            t_k = path[i]\n",
    "            new_path.append(t_k)\n",
    "            \n",
    "\n",
    "    new_path.append(path[len(path) - 1])\n",
    "    length = 0\n",
    "    start_point = new_path[0]\n",
    "    for i in range(1, len(new_path)):\n",
    "        length += start_point.calculate_distance(new_path[i])\n",
    "        start_point = new_path[i]\n",
    "    return (new_path, length)\n",
    "            "
   ]
  },
  {
   "cell_type": "code",
   "execution_count": 102,
   "metadata": {},
   "outputs": [],
   "source": [
    "def theta_star(grid_map, x_start, y_start, x_goal, y_goal, heuristic_func=diagonal_distance):\n",
    "    opened = Open()\n",
    "    closed = Close()\n",
    "    start_node = Node(x_start, y_start, g=0, h=heuristic_func(x_start, y_start, x_goal, y_goal))\n",
    "    opened.add_node(start_node)\n",
    "    last_num = 1\n",
    "    while not opened.is_empty():\n",
    "        current_node = opened.get_best_node()\n",
    "        closed.add_node(current_node)\n",
    "        if current_node.x == x_goal and current_node.y == y_goal:\n",
    "            return (True, current_node, closed, opened)\n",
    "        neighbors = grid_map.get_neighbors(current_node.x, current_node.y)\n",
    "        for n in neighbors:\n",
    "            calculate_cost(grid_map, current_node, n)\n",
    "            n.h = heuristic_func(n.x, n.y, x_goal, y_goal)\n",
    "            n.f = n.g + n.h\n",
    "            last_num += 1\n",
    "            if not closed.was_expanded(n):\n",
    "                opened.add_node(n)\n",
    "    return False, None, closed, opened\n",
    "    "
   ]
  },
  {
   "cell_type": "code",
   "execution_count": 103,
   "metadata": {},
   "outputs": [],
   "source": [
    "def make_path(goal):\n",
    "    length = goal.g\n",
    "    current = goal\n",
    "    path = []\n",
    "    while current.parent:\n",
    "        path.append(current)\n",
    "        current = current.parent\n",
    "    path.append(current)\n",
    "    return path[::-1], length"
   ]
  },
  {
   "cell_type": "code",
   "execution_count": 165,
   "metadata": {},
   "outputs": [],
   "source": [
    "def draw_func(grid_map : Map, start : Node = None, goal : Node = None, path : list = None, nodes_expanded = None, nodes_opened = None):\n",
    "    hIm = grid_map.height\n",
    "    wIm = grid_map.width\n",
    "    current_map = grid_map.get_cells()\n",
    "    x = []\n",
    "    y = []\n",
    "    for i in range(hIm+1):\n",
    "        for j in range(wIm+1):\n",
    "            if current_map[i][j] == 1:\n",
    "                x.append(j)\n",
    "                y.append(i)\n",
    "                \n",
    "    \n",
    "    xm, ym = np.meshgrid( np.linspace(0, wIm, wIm+1), np.linspace(0, hIm, hIm+1))\n",
    "    segs1 = np.stack((xm,ym), axis=2)\n",
    "    segs2 = segs1.transpose(1,0,2)\n",
    "    plt.gca().add_collection(LineCollection(segs1))\n",
    "    plt.gca().add_collection(LineCollection(segs2))\n",
    "    plt.scatter(x, y, c='black')\n",
    "    if (start is not None) and (grid_map.traversable(start.x, start.y)):\n",
    "        plt.scatter(start.y, start.x, c='green')\n",
    "    if (goal is not None) and (grid_map.traversable(goal.x, goal.y)):\n",
    "        plt.scatter(goal.y, goal.x, c='red')\n",
    "    if path is not None:\n",
    "        for n in range(1, len(path)):\n",
    "            if (path[n] is not None):\n",
    "                step1 = path[n-1]\n",
    "                step2 = path[n]\n",
    "                plt.plot([step1.y, step2.y], [step1.x, step2.x], color='orange')\n",
    "\n",
    "                    \n",
    "    plt.show()\n",
    "    "
   ]
  },
  {
   "cell_type": "code",
   "execution_count": 355,
   "metadata": {},
   "outputs": [],
   "source": [
    "def simple_test(search_function, astar=False, *args):\n",
    "    height = 15\n",
    "    width = 30\n",
    "    mapstr = '''\n",
    ". . . . . . . . . . . . . . . . . . . . . # # . . . . . . .  \n",
    ". . . . . . . . . . . . . . . . . . . . . # # . . . . . . . \n",
    ". . . . . . . . . . . . . . . . . . . . . # # . . . . . . . \n",
    ". . . # # . . . . . . . . . . . . . . . . # # . . . . . . . \n",
    ". . . # # . . . . . . . . # # . . . . . . # # . . . . . . . \n",
    ". . . # # . . . . . . . . # # . . . . . . # # # # # . . . . \n",
    ". . . # # . . . . . . . . # # . . . . . . # # # # # . . . . \n",
    ". . . # # . . . . . . . . # # . . . . . . . . . . . . . . . \n",
    ". . . # # . . . . . . . . # # . . . . . . . . . . . . . . . \n",
    ". . . # # . . . . . . . . # # . . . . . . . . . . . . . . . \n",
    ". . . # # . . . . . . . . # # . . . . . . . . . . . . . . . \n",
    ". . . # # . . . . . . . . # # . . . . . . . . . . . . . . . \n",
    ". . . . . . . . . . . . . # # . . . . . . . . . . . . . . . \n",
    ". . . . . . . . . . . . . # # . . . . . . . . . . . . . . .\n",
    ". . . . . . . . . . . . . # # . . . . . . . . . . . . . . .\n",
    "'''\n",
    "\n",
    "    task_map = Map()\n",
    "    task_map.read_from_string(mapstr, width, height )\n",
    "    start = Node(1, 1)\n",
    "    goal = Node(13, 28)\n",
    "\n",
    "    \n",
    "    try:\n",
    "        result = search_function(task_map, start.x, start.y, goal.x, goal.y, *args)\n",
    "        nodes_expanded = result[2]\n",
    "        nodes_opened = result[3]\n",
    "        if result[0]:\n",
    "            path = make_path(result[1])\n",
    "            if astar:\n",
    "                path = post_smooth_path(task_map, path[0])\n",
    "            print(\"Path found! Length: \" + str(path[1]) + \". Nodes created: \" + str(len(nodes_opened) + len(nodes_expanded)))\n",
    "            draw_func(task_map, start, goal, path[0], nodes_expanded, nodes_opened)\n",
    "        else:\n",
    "            print(\"Path not found!\")\n",
    "            draw_func(task_map, start, goal, None, nodes_expanded, nodes_opened)\n",
    "    except Exception as e:\n",
    "        print(\"Execution error\")\n",
    "        print(e)\n",
    "    return path"
   ]
  },
  {
   "cell_type": "code",
   "execution_count": 356,
   "metadata": {},
   "outputs": [
    {
     "name": "stdout",
     "output_type": "stream",
     "text": [
      "Path found! Length: 30.85662648942118. Nodes created: 432\n"
     ]
    },
    {
     "data": {
      "image/png": "[encoded data removed]",
      "text/plain": [
       "<Figure size 432x288 with 1 Axes>"
      ]
     },
     "metadata": {},
     "output_type": "display_data"
    },
    {
     "name": "stdout",
     "output_type": "stream",
     "text": [
      "CPU times: user 362 ms, sys: 56.2 ms, total: 418 ms\n",
      "Wall time: 181 ms\n"
     ]
    }
   ],
   "source": [
    "%time path  = simple_test(theta_star)"
   ]
  },
  {
   "cell_type": "code",
   "execution_count": 357,
   "metadata": {},
   "outputs": [
    {
     "name": "stdout",
     "output_type": "stream",
     "text": [
      "Path found! Length: 30.270497671438676. Nodes created: 391\n"
     ]
    },
    {
     "data": {
      "image/png": "[encoded data removed]",
      "text/plain": [
       "<Figure size 432x288 with 1 Axes>"
      ]
     },
     "metadata": {},
     "output_type": "display_data"
    },
    {
     "name": "stdout",
     "output_type": "stream",
     "text": [
      "CPU times: user 336 ms, sys: 50.2 ms, total: 387 ms\n",
      "Wall time: 145 ms\n"
     ]
    }
   ],
   "source": [
    "#a_star with post smoothing\n",
    "%time path  = simple_test(a_star, True)"
   ]
  },
  {
   "cell_type": "code",
   "execution_count": 366,
   "metadata": {},
   "outputs": [],
   "source": [
    "def ReadTaskFromFile(path):\n",
    "    tasksFile = open(path)\n",
    "    count = 0\n",
    "    height = int(tasksFile.readline())\n",
    "    width = int(tasksFile.readline())\n",
    "    cells = [[0 for _ in range(width+1)] for _ in range(height+1)]\n",
    "    i = 0\n",
    "    j = 0\n",
    "\n",
    "    for l in tasksFile:\n",
    "        j = 0\n",
    "        for c in l:\n",
    "            if c == '.':\n",
    "                cells[i][j] = 0\n",
    "            elif c == '#':\n",
    "                cells[i][j] = 1\n",
    "                cells[i + 1][j] = 1\n",
    "                cells[i][j + 1] = 1\n",
    "                cells[i + 1][j + 1] = 1\n",
    "            else:\n",
    "                continue\n",
    "            \n",
    "            j += 1\n",
    "            \n",
    "        if j != width:\n",
    "            raise Exception(\"Size Error. Map width = \", j, \", but must be\", width, \"(map line: \", i, \")\")\n",
    "                \n",
    "        i += 1\n",
    "        if(i == height):\n",
    "            break\n",
    "    \n",
    "    iStart = int(tasksFile.readline())\n",
    "    jStart = int(tasksFile.readline())\n",
    "    iGoal = int(tasksFile.readline())\n",
    "    jGoal = int(tasksFile.readline())\n",
    "    length = float(tasksFile.readline())\n",
    "    return (width, height, cells, iStart, jStart, iGoal, jGoal, length)\n",
    "\n",
    "\n",
    "\n",
    "def MassiveTest(SearchFunction, astar=False, *args):\n",
    "    stat = dict()\n",
    "    stat[\"len\"] = []\n",
    "    taskNum = 2\n",
    "    taskMap = Map()\n",
    "    nc = 0\n",
    "    for taskCount in range(taskNum):\n",
    "        taskFileName = \"Data_simple/\" + str(taskCount) + \".map\"\n",
    "        width, height, cells, iStart, jStart, iGoal, jGoal, length = ReadTaskFromFile(taskFileName)\n",
    "        taskMap.set_grid_cells(width,height,cells)\n",
    "        try:\n",
    "            result = SearchFunction(taskMap, iStart, jStart, iGoal, jGoal, *args)\n",
    "            nodesExpanded = result[2]\n",
    "            nodesOpened = result[3]\n",
    "            if result[0]:\n",
    "                path = make_path(result[1])\n",
    "                if astar:\n",
    "                    path = post_smooth_path(taskMap, path[0])\n",
    "                stat[\"len\"].append(path[1])\n",
    "                correct = abs(path[1] - length) < EPS\n",
    "                draw_func(taskMap, Node(iStart, jStart), Node(iGoal, jGoal), path[0], nodesExpanded, nodesOpened)\n",
    "#                 print(\"Path found! Length: \" + str(path[1]))\n",
    "                print(\"Path found! Length: \" + str(path[1]))\n",
    "            else:\n",
    "                print(\"Path not found!\")\n",
    "                stat[\"len\"].append(0.0)\n",
    "\n",
    "\n",
    "        except Exception as e:\n",
    "            print(\"Execution error\")\n",
    "            print(e)\n",
    "\n",
    "    return stat"
   ]
  },
  {
   "cell_type": "code",
   "execution_count": 367,
   "metadata": {},
   "outputs": [
    {
     "data": {
      "image/png": "[encoded data removed]",
      "text/plain": [
       "<Figure size 432x288 with 1 Axes>"
      ]
     },
     "metadata": {},
     "output_type": "display_data"
    },
    {
     "name": "stdout",
     "output_type": "stream",
     "text": [
      "Path found! Length: 65.51876057748936\n"
     ]
    },
    {
     "data": {
      "image/png": "[encoded data removed]",
      "text/plain": [
       "<Figure size 432x288 with 1 Axes>"
      ]
     },
     "metadata": {},
     "output_type": "display_data"
    },
    {
     "name": "stdout",
     "output_type": "stream",
     "text": [
      "Path found! Length: 187.03002936814704\n",
      "CPU times: user 1.49 s, sys: 102 ms, total: 1.59 s\n",
      "Wall time: 883 ms\n"
     ]
    }
   ],
   "source": [
    "%time stat = MassiveTest(theta_star)"
   ]
  },
  {
   "cell_type": "code",
   "execution_count": 368,
   "metadata": {},
   "outputs": [
    {
     "data": {
      "image/png": "[encoded data removed]",
      "text/plain": [
       "<Figure size 432x288 with 1 Axes>"
      ]
     },
     "metadata": {},
     "output_type": "display_data"
    },
    {
     "name": "stdout",
     "output_type": "stream",
     "text": [
      "Path found! Length: 62.36892192001659\n"
     ]
    },
    {
     "data": {
      "image/png": "[encoded data removed]",
      "text/plain": [
       "<Figure size 432x288 with 1 Axes>"
      ]
     },
     "metadata": {},
     "output_type": "display_data"
    },
    {
     "name": "stdout",
     "output_type": "stream",
     "text": [
      "Path found! Length: 206.9510548248357\n",
      "CPU times: user 1.29 s, sys: 102 ms, total: 1.4 s\n",
      "Wall time: 682 ms\n"
     ]
    }
   ],
   "source": [
    "%time stat = MassiveTest(a_star, True)"
   ]
  },
  {
   "cell_type": "code",
   "execution_count": 344,
   "metadata": {},
   "outputs": [],
   "source": [
    "def ReadMapFromMovingAIFile(path):\n",
    "    mapFile = open(path)\n",
    "    count = 0\n",
    "    type_m = mapFile.readline()\n",
    "    height = int(mapFile.readline().split()[1])\n",
    "    width = int(mapFile.readline().split()[1])\n",
    "    m = mapFile.readline()\n",
    "    cells = [[0 for _ in range(width + 1)] for _ in range(height + 1)]\n",
    "    i = 0\n",
    "    j = 0 \n",
    "    \n",
    "    for l in mapFile:\n",
    "        j = 0\n",
    "        for c in l:\n",
    "            if c == '.':\n",
    "                cells[i][j] = 0\n",
    "            elif c == '@':\n",
    "                cells[i][j] = 1\n",
    "                cells[i + 1][j] = 1\n",
    "                cells[i][j + 1] = 1\n",
    "                cells[i + 1][j + 1] = 1\n",
    "            else:\n",
    "                continue\n",
    "            j +=1\n",
    "            \n",
    "        if j != width:\n",
    "            raise Exception(\"Size Error. Map width = \", j, \", but must be\", width, \"(map line: \", i, \")\")\n",
    "        \n",
    "        i += 1\n",
    "        if i == height + 1:\n",
    "            break\n",
    "        \n",
    "    return (width, height, cells)"
   ]
  },
  {
   "cell_type": "code",
   "execution_count": 345,
   "metadata": {},
   "outputs": [],
   "source": [
    "def ReadTasksFromMovingAIFile(path):\n",
    "    tasks = []\n",
    "    tasksFile = open(path)\n",
    "    version = tasksFile.readline()\n",
    "    i = 0\n",
    "    for l in tasksFile:\n",
    "        if i < 900:\n",
    "            i += 1\n",
    "            continue\n",
    "        if i == 1000:\n",
    "            break\n",
    "        dt = l.split(\"\\t\")\n",
    "        start_y, start_x = int(dt[4]), int(dt[5])\n",
    "        goal_y, goal_x = int(dt[6]), int(dt[7])\n",
    "        length = float(dt[8][:-2])\n",
    "        tasks.append((start_x, start_y, goal_x, goal_y, length))\n",
    "        i += 1\n",
    "    return tasks "
   ]
  },
  {
   "cell_type": "code",
   "execution_count": 397,
   "metadata": {},
   "outputs": [],
   "source": [
    "from time import time\n",
    "def MassiveTestBig(SearchFunction, astar=False, *args):\n",
    "    allTasksResults = dict()\n",
    "    allTasksResults[\"len\"] = []\n",
    "    allTasksResults[\"nc\"] = []\n",
    "    allTasksResults[\"time\"] = []\n",
    "    maps_paths = ['./Data/Berlin_0_1024.map', './Data/Boston_2_1024.map', './Data/Milan_2_1024.map']\n",
    "    taskMap = Map()\n",
    "    for p in maps_paths:\n",
    "        width, height, cells = ReadMapFromMovingAIFile(p)\n",
    "        tasks = ReadTasksFromMovingAIFile(p + '.scen')\n",
    "        taskMap.set_grid_cells(width,height,cells)\n",
    "         \n",
    "        for task in tasks:\n",
    "            st_time = time()\n",
    "            iStart, jStart, iGoal, jGoal, length = task\n",
    "\n",
    "            result = SearchFunction(taskMap, iStart, jStart, iGoal, jGoal, *args)\n",
    "            nodesExpanded = result[2]\n",
    "            nodesOpened = result[3]\n",
    "            if result[0]:\n",
    "                path = make_path(result[1])\n",
    "                if astar:\n",
    "                    path = post_smooth_path(taskMap, path[0])\n",
    "                allTasksResults[\"len\"].append(path[1])\n",
    "            else:\n",
    "                print(\"Path not found!\")\n",
    "                allTasksResults[\"len\"].append(0.0)\n",
    "            res_time = time() - st_time\n",
    "            allTasksResults[\"nc\"].append(len(nodesOpened) + len(nodesExpanded))\n",
    "            allTasksResults[\"time\"].append(res_time)\n",
    "\n",
    "    return allTasksResults"
   ]
  },
  {
   "cell_type": "code",
   "execution_count": 348,
   "metadata": {},
   "outputs": [],
   "source": [
    "theta_stat = MassiveTestBig(theta_star)"
   ]
  },
  {
   "cell_type": "code",
   "execution_count": 349,
   "metadata": {},
   "outputs": [],
   "source": [
    "a_star_stat = MassiveTestBig(a_star)"
   ]
  },
  {
   "cell_type": "code",
   "execution_count": 350,
   "metadata": {},
   "outputs": [],
   "source": [
    "a_star_ps_stat = MassiveTestBig(a_star, True)"
   ]
  },
  {
   "cell_type": "code",
   "execution_count": 396,
   "metadata": {},
   "outputs": [],
   "source": [
    "def plot_statistics(name):\n",
    "    if name == 'time':\n",
    "        a = sum(a_sta_stat[name])/len(a_star_stat[name])\n",
    "        a_ps = sum(a_star_ps_stat[name])/len(a_star_ps_stat[name])\n",
    "        theta = sum(theta_stat[name])/len(theta_stat[name])\n",
    "    else:\n",
    "        a = sum(a_sta_stat[name])/len(a_star_stat[name])\n",
    "        a_ps = sum(a_star_ps_stat[name])/len(a_star_ps_stat[name])\n",
    "        theta = sum(theta_stat[name])/len(theta_stat[name])\n",
    " \n",
    "\n",
    "    fig = plt.figure()\n",
    "    ax = fig.add_axes([0,0,1,1])\n",
    "    ax.set_title(name)\n",
    "    x = ['A*', 'A* PS', 'Theta*']\n",
    "    y = [a, a_ps, theta]\n",
    "    ax.bar(x, y)\n",
    "    plt.show()\n",
    "    \n",
    "\n"
   ]
  },
  {
   "cell_type": "code",
   "execution_count": 372,
   "metadata": {
    "scrolled": true
   },
   "outputs": [
    {
     "data": {
      "image/png": "[encoded data removed]",
      "text/plain": [
       "<Figure size 432x288 with 1 Axes>"
      ]
     },
     "metadata": {},
     "output_type": "display_data"
    }
   ],
   "source": [
    "plot_statistics('len')"
   ]
  },
  {
   "cell_type": "code",
   "execution_count": 388,
   "metadata": {},
   "outputs": [
    {
     "data": {
      "image/png": "[encoded data removed]",
      "text/plain": [
       "<Figure size 432x288 with 1 Axes>"
      ]
     },
     "metadata": {},
     "output_type": "display_data"
    }
   ],
   "source": [
    "plot_statistics('nc')\n"
   ]
  },
  {
   "cell_type": "code",
   "execution_count": 395,
   "metadata": {},
   "outputs": [
    {
     "data": {
      "image/png": "[encoded data removed]",
      "text/plain": [
       "<Figure size 432x288 with 1 Axes>"
      ]
     },
     "metadata": {},
     "output_type": "display_data"
    }
   ],
   "source": [
    "plot_statistics('time')"
   ]
  },
  {
   "cell_type": "code",
   "execution_count": null,
   "metadata": {},
   "outputs": [],
   "source": []
  },
  {
   "cell_type": "code",
   "execution_count": null,
   "metadata": {},
   "outputs": [],
   "source": []
  }
 ],
 "metadata": {
  "kernelspec": {
   "display_name": "Python 3",
   "language": "python",
   "name": "python3"
  },
  "language_info": {
   "codemirror_mode": {
    "name": "ipython",
    "version": 3
   },
   "file_extension": ".py",
   "mimetype": "text/x-python",
   "name": "python",
   "nbconvert_exporter": "python",
   "pygments_lexer": "ipython3",
   "version": "3.7.4"
  }
 },
 "nbformat": 4,
 "nbformat_minor": 2
}
